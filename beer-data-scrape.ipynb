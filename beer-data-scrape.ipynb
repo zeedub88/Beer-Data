{
 "cells": [
  {
   "cell_type": "code",
   "execution_count": 42,
   "metadata": {},
   "outputs": [],
   "source": [
    "from selenium import webdriver\n",
    "from selenium.webdriver.chrome.options import Options\n",
    "from selenium.webdriver.common.keys import Keys\n",
    "from selenium.webdriver.common.by import By\n",
    "from selenium.webdriver.support.ui import WebDriverWait\n",
    "from selenium.webdriver.support import expected_conditions as EC\n",
    "import time\n",
    "import csv\n",
    "import datetime"
   ]
  },
  {
   "cell_type": "code",
   "execution_count": null,
   "metadata": {},
   "outputs": [],
   "source": [
    "# To run Chrome in headless mode\n",
    "# options = Options()\n",
    "# options.headless = True\n",
    "# options.add_argument(\"--window-size-1920,1200\")"
   ]
  },
  {
   "cell_type": "code",
   "execution_count": 43,
   "metadata": {},
   "outputs": [],
   "source": [
    "DRIVER_PATH = 'chromedriver'"
   ]
  },
  {
   "cell_type": "code",
   "execution_count": null,
   "metadata": {},
   "outputs": [],
   "source": [
    "cbb_driver = webdriver.Chrome(executable_path=DRIVER_PATH)\n",
    "\n",
    "results = 1\n",
    "pages = 0\n",
    "cbb_driver.get(f'https://beerandbrewing.com/beer-reviews?q=&hPP={results}&idx=cbb_web_review_search&p={pages}')"
   ]
  },
  {
   "cell_type": "code",
   "execution_count": null,
   "metadata": {},
   "outputs": [],
   "source": [
    "cbb_main_reviews_window = cbb_driver.current_window_handle"
   ]
  },
  {
   "cell_type": "code",
   "execution_count": 44,
   "metadata": {},
   "outputs": [],
   "source": [
    "# Define style families for search and categorization\n",
    "style_families = ['Wheat', 'Sour', 'Belgian Ale', 'Pale Ale', 'English Bitter', 'Scottish Ale', 'Brown Ale', 'Porter', 'Stout', \\\n",
    "               'Pilsner', 'American Lager', 'European Lager', 'Bock', 'Alt', 'Barley Wine']"
   ]
  },
  {
   "cell_type": "code",
   "execution_count": 4,
   "metadata": {},
   "outputs": [],
   "source": [
    "# Functions to handle data processing for Craft Beer & Brewing\n",
    "\n",
    "def get_item_text(item):\n",
    "    return item.text or ''\n",
    "\n",
    "def parse_review_meta(review_meta):\n",
    "    meta_keys = ['Style', 'ABV', 'IBU']\n",
    "    meta_items = []\n",
    "    \n",
    "    for i in review_meta:\n",
    "        if get_item_text(i) is not None and get_item_text(i) != '':\n",
    "            if 'Style' in get_item_text(i):\n",
    "                item = get_item_text(i).split(': ')\n",
    "            else:\n",
    "                item = get_item_text(i).replace(':','').split()\n",
    "            meta_items.append(item)\n",
    "\n",
    "    for i in meta_items:\n",
    "        if 'Style' not in i:\n",
    "            first_pair = ' '.join(i[:2])\n",
    "            second_pair = ' '.join(i[-2:])\n",
    "        else:\n",
    "            first_pair = None\n",
    "            second_pair = None\n",
    "\n",
    "    transformed_meta_items = [i for i in meta_items if 'Style' in i]\n",
    "    if first_pair is not None:\n",
    "        transformed_meta_items.append(first_pair.split())\n",
    "    if second_pair is not None:\n",
    "        transformed_meta_items.append(second_pair.split())\n",
    "    \n",
    "    meta_items_dict = {x: y.strip() for x, y in transformed_meta_items}\n",
    "    return tuple([meta_items_dict.get(key, None) for key in meta_keys])\n",
    "    \n",
    "def parse_scores(scores):\n",
    "    split_scores = scores.split()\n",
    "    score = split_scores[0].split('/')[0]\n",
    "    aroma = split_scores[2]\n",
    "    appearance = split_scores[4]\n",
    "    flavor = split_scores[6]\n",
    "    mouthfeel = split_scores[8]\n",
    "    return score, aroma, appearance, flavor, mouthfeel\n",
    "\n",
    "def parse_reviews(reviews):\n",
    "#     brewers = reviews[2].text.strip('\\\"')\n",
    "#     panel = reviews[3].text.strip('\\\"')\n",
    "#     editors = reviews[4].text.strip('\\\"')\n",
    "#     total_review = brewers+' '+panel+' '+editors\n",
    "#     return brewers, panel, editors, total_review\n",
    "    total_review = []\n",
    "    for review in reviews:\n",
    "        review_text = get_item_text(review)\n",
    "        if 'Print Shelf Talker' not in review_text and 'How We Review' not in review_text:\n",
    "            total_review.append(review_text.strip('\\\"').strip('\\n'))\n",
    "    return ' '.join(total_review)"
   ]
  },
  {
   "cell_type": "code",
   "execution_count": 45,
   "metadata": {},
   "outputs": [],
   "source": [
    "# Functions to handle data processing for UNTAPPD\n",
    "\n",
    "# def start_search(style):\n",
    "#     untappd_url = f'https://untappd.com/search?q={style}'\n",
    "#     return untappd_url\n",
    "\n",
    "def search_for_beers(style):\n",
    "    untappd_driver.find_element_by_id('search-term').clear()\n",
    "    untappd_driver.find_element_by_id('search-term').send_keys(style)\n",
    "    search = untappd_driver.find_element_by_xpath('//*[@id=\"slide\"]/div/div[1]/div/div/div[1]/form/span/input')\n",
    "    search.click()\n",
    "\n",
    "def get_beer_data():\n",
    "    beer_elements = untappd_driver.find_element_by_class_name('content')\n",
    "    beer = beer_elements.find_element_by_tag_name('h1').text\n",
    "    score = beer_elements.find_element_by_class_name('num').text.replace('(','').replace(')','')\n",
    "    bid = beer_elements.find_element_by_class_name('label').get_attribute('href').split('/')[-1]\n",
    "    \n",
    "    dict_data = {\n",
    "                'bid': bid,\n",
    "                'beer': beer,\n",
    "                'score': score\n",
    "                }\n",
    "    \n",
    "    p_tags = beer_elements.find_elements_by_tag_name('p')\n",
    "    p_tags_list = []\n",
    "    for tag in p_tags:\n",
    "        tag_value = tag.text \n",
    "        tag_attribute = tag.get_attribute('class')\n",
    "        p_tags_list.append({tag_attribute:tag_value})\n",
    "    \n",
    "    for dicts in p_tags_list:\n",
    "        for k,v in dicts.items():\n",
    "            if k:\n",
    "                dict_data[k] = v\n",
    "            \n",
    "    try:\n",
    "        untappd_driver.find_element_by_css_selector('div.beer-descrption-read-more').click()\n",
    "        description = untappd_driver.find_element_by_class_name('beer-descrption-read-less').text\n",
    "    except:\n",
    "        description = ''\n",
    "    \n",
    "    dict_data['description'] = description\n",
    "    \n",
    "    return dict_data"
   ]
  },
  {
   "cell_type": "code",
   "execution_count": null,
   "metadata": {},
   "outputs": [],
   "source": [
    "beer_styles = [get_item_text(i).split('\\n') for i in cbb_driver.find_elements_by_class_name('ais-refinement-list')][0]"
   ]
  },
  {
   "cell_type": "code",
   "execution_count": null,
   "metadata": {},
   "outputs": [],
   "source": [
    "beer_hits = cbb_driver.find_elements_by_class_name('hit-content')\n",
    "tabs = []\n",
    "beers = []\n",
    "\n",
    "for hits in beer_hits:\n",
    "    for beer in hits.find_elements_by_tag_name('a'):\n",
    "        beer.send_keys(Keys.CONTROL + Keys.RETURN)\n",
    "        tabs.append(cbb_driver.window_handles[-1])"
   ]
  },
  {
   "cell_type": "code",
   "execution_count": null,
   "metadata": {},
   "outputs": [],
   "source": [
    "for tab in tabs:\n",
    "    cbb_driver.switch_to.window(tab)\n",
    "\n",
    "    review_meta = cbb_driver.find_element_by_class_name('review-meta-holder').find_elements_by_tag_name('p')\n",
    "    style, abv, ibu = parse_review_meta(review_meta)\n",
    "    \n",
    "    scores = cbb_driver.find_element_by_class_name('main-score-overall-container').text\n",
    "    score, aroma, appearance, flavor, mouthfeel = parse_scores(scores)\n",
    "    \n",
    "    beer = cbb_driver.find_element_by_id('article-body').find_element_by_tag_name('h1').text\n",
    "    \n",
    "    reviews = cbb_driver.find_element_by_id('article-body').find_elements_by_tag_name('p')\n",
    "#     brewers, panel, editors, \n",
    "    total_review = parse_reviews(reviews)\n",
    "    \n",
    "    beer_data = {\n",
    "                'beer': beer,\n",
    "                'style': style,\n",
    "                'abv': abv,\n",
    "                'ibu': ibu,\n",
    "                'total_score': score,\n",
    "                 'aroma_score': aroma,\n",
    "                 'appearance_score': appearance,\n",
    "                 'flavor_score': flavor,\n",
    "                 'mouthfeel_score': mouthfeel,\n",
    "#                  'brewers': brewers,\n",
    "#                  'panel': panel,\n",
    "#                  'editors': editors,\n",
    "                'total_review': total_review\n",
    "                }\n",
    "    beers.append(beer_data)"
   ]
  },
  {
   "cell_type": "code",
   "execution_count": null,
   "metadata": {},
   "outputs": [],
   "source": [
    "# for style in beer_styles:\n",
    "#     for beer in beers:\n",
    "#         if style in beer['style']:\n",
    "#             beer['style_category'] = style\n",
    "# beers"
   ]
  },
  {
   "cell_type": "code",
   "execution_count": null,
   "metadata": {},
   "outputs": [],
   "source": [
    "# styles = [beer['style_category'] for beer in beers]\n",
    "# print(list(set(styles)))"
   ]
  },
  {
   "cell_type": "code",
   "execution_count": null,
   "metadata": {},
   "outputs": [],
   "source": [
    "today = datetime.datetime.today()\n",
    "now = str(today).replace(' ','_').replace(':','')\n",
    "\n",
    "# TODO: elegantly handle encoding\n",
    "keys = beers[0].keys()\n",
    "with open(f'beer_data_scrape_{now}.csv', 'w', newline='',encoding='UTF-8')  as output_file:\n",
    "    dict_writer = csv.DictWriter(output_file, keys)\n",
    "    dict_writer.writeheader()\n",
    "    dict_writer.writerows(beers)"
   ]
  },
  {
   "cell_type": "code",
   "execution_count": null,
   "metadata": {},
   "outputs": [],
   "source": [
    "cbb_driver.quit()"
   ]
  },
  {
   "cell_type": "code",
   "execution_count": 6,
   "metadata": {},
   "outputs": [],
   "source": [
    "untappd_driver = webdriver.Chrome(executable_path=DRIVER_PATH)\n",
    "# all_beers ='https://untappd.com/beer/top_rated?country=united-states'\n",
    "# search_ipa = 'https://untappd.com/search?q=ipa'\n",
    "# untappd_driver.get(search_ipa)\n",
    "# untappd_main_window = untappd_driver.current_window_handle"
   ]
  },
  {
   "cell_type": "code",
   "execution_count": null,
   "metadata": {},
   "outputs": [],
   "source": [
    "# untappd_driver.find_element_by_id('search-term').clear() # clear current search value\n",
    "# untappd_driver.find_element_by_id('search-term').send_keys('lager') # input new search value\n",
    "# search = untappd_driver.find_element_by_xpath('//*[@id=\"slide\"]/div/div[1]/div/div/div[1]/form/span/input') # find the search button\n",
    "# search.click()"
   ]
  },
  {
   "cell_type": "code",
   "execution_count": 12,
   "metadata": {},
   "outputs": [],
   "source": [
    "def search_for_styles(style):\n",
    "    untappd_url = f'https://untappd.com/search?q={style}'\n",
    "    return untappd_url"
   ]
  },
  {
   "cell_type": "code",
   "execution_count": 52,
   "metadata": {},
   "outputs": [],
   "source": [
    "untappd_driver.switch_to.window(untappd_main_window)"
   ]
  },
  {
   "cell_type": "code",
   "execution_count": 53,
   "metadata": {},
   "outputs": [],
   "source": [
    "beer_data = []"
   ]
  },
  {
   "cell_type": "code",
   "execution_count": 47,
   "metadata": {},
   "outputs": [],
   "source": [
    "# Start driver\n",
    "untappd_driver = webdriver.Chrome(executable_path=DRIVER_PATH)\n",
    "# Start search\n",
    "untappd_url = f'https://untappd.com/search?q='\n",
    "untappd_driver.get(untappd_url)"
   ]
  },
  {
   "cell_type": "code",
   "execution_count": 54,
   "metadata": {},
   "outputs": [
    {
     "name": "stdout",
     "output_type": "stream",
     "text": [
      "Have you logged in? [Y/N] Y\n",
      "Completed Wheat.\n"
     ]
    },
    {
     "ename": "NameError",
     "evalue": "name 'NoSuchElementException' is not defined",
     "output_type": "error",
     "traceback": [
      "\u001b[1;31m---------------------------------------------------------------------------\u001b[0m",
      "\u001b[1;31mNoSuchElementException\u001b[0m                    Traceback (most recent call last)",
      "\u001b[1;32m<ipython-input-54-91bf1597af90>\u001b[0m in \u001b[0;36m<module>\u001b[1;34m\u001b[0m\n\u001b[0;32m     34\u001b[0m                 \u001b[0mwait\u001b[0m \u001b[1;33m=\u001b[0m \u001b[0mWebDriverWait\u001b[0m\u001b[1;33m(\u001b[0m\u001b[0muntappd_driver\u001b[0m\u001b[1;33m,\u001b[0m\u001b[1;36m90\u001b[0m\u001b[1;33m)\u001b[0m\u001b[1;33m\u001b[0m\u001b[1;33m\u001b[0m\u001b[0m\n\u001b[1;32m---> 35\u001b[1;33m                 \u001b[0mwait\u001b[0m\u001b[1;33m.\u001b[0m\u001b[0muntil\u001b[0m\u001b[1;33m(\u001b[0m\u001b[0mEC\u001b[0m\u001b[1;33m.\u001b[0m\u001b[0mvisibility_of\u001b[0m\u001b[1;33m(\u001b[0m\u001b[0muntappd_driver\u001b[0m\u001b[1;33m.\u001b[0m\u001b[0mfind_element_by_class_name\u001b[0m\u001b[1;33m(\u001b[0m\u001b[1;34m'content'\u001b[0m\u001b[1;33m)\u001b[0m\u001b[1;33m)\u001b[0m\u001b[1;33m)\u001b[0m\u001b[1;33m\u001b[0m\u001b[1;33m\u001b[0m\u001b[0m\n\u001b[0m\u001b[0;32m     36\u001b[0m                     \u001b[1;31m#(By.CLASS_NAME,'content')))\u001b[0m\u001b[1;33m\u001b[0m\u001b[1;33m\u001b[0m\u001b[1;33m\u001b[0m\u001b[0m\n",
      "\u001b[1;32mc:\\users\\zachary wallace\\appdata\\local\\programs\\python\\python39\\lib\\site-packages\\selenium\\webdriver\\remote\\webdriver.py\u001b[0m in \u001b[0;36mfind_element_by_class_name\u001b[1;34m(self, name)\u001b[0m\n\u001b[0;32m    563\u001b[0m         \"\"\"\n\u001b[1;32m--> 564\u001b[1;33m         \u001b[1;32mreturn\u001b[0m \u001b[0mself\u001b[0m\u001b[1;33m.\u001b[0m\u001b[0mfind_element\u001b[0m\u001b[1;33m(\u001b[0m\u001b[0mby\u001b[0m\u001b[1;33m=\u001b[0m\u001b[0mBy\u001b[0m\u001b[1;33m.\u001b[0m\u001b[0mCLASS_NAME\u001b[0m\u001b[1;33m,\u001b[0m \u001b[0mvalue\u001b[0m\u001b[1;33m=\u001b[0m\u001b[0mname\u001b[0m\u001b[1;33m)\u001b[0m\u001b[1;33m\u001b[0m\u001b[1;33m\u001b[0m\u001b[0m\n\u001b[0m\u001b[0;32m    565\u001b[0m \u001b[1;33m\u001b[0m\u001b[0m\n",
      "\u001b[1;32mc:\\users\\zachary wallace\\appdata\\local\\programs\\python\\python39\\lib\\site-packages\\selenium\\webdriver\\remote\\webdriver.py\u001b[0m in \u001b[0;36mfind_element\u001b[1;34m(self, by, value)\u001b[0m\n\u001b[0;32m    975\u001b[0m                 \u001b[0mvalue\u001b[0m \u001b[1;33m=\u001b[0m \u001b[1;34m'[name=\"%s\"]'\u001b[0m \u001b[1;33m%\u001b[0m \u001b[0mvalue\u001b[0m\u001b[1;33m\u001b[0m\u001b[1;33m\u001b[0m\u001b[0m\n\u001b[1;32m--> 976\u001b[1;33m         return self.execute(Command.FIND_ELEMENT, {\n\u001b[0m\u001b[0;32m    977\u001b[0m             \u001b[1;34m'using'\u001b[0m\u001b[1;33m:\u001b[0m \u001b[0mby\u001b[0m\u001b[1;33m,\u001b[0m\u001b[1;33m\u001b[0m\u001b[1;33m\u001b[0m\u001b[0m\n",
      "\u001b[1;32mc:\\users\\zachary wallace\\appdata\\local\\programs\\python\\python39\\lib\\site-packages\\selenium\\webdriver\\remote\\webdriver.py\u001b[0m in \u001b[0;36mexecute\u001b[1;34m(self, driver_command, params)\u001b[0m\n\u001b[0;32m    320\u001b[0m         \u001b[1;32mif\u001b[0m \u001b[0mresponse\u001b[0m\u001b[1;33m:\u001b[0m\u001b[1;33m\u001b[0m\u001b[1;33m\u001b[0m\u001b[0m\n\u001b[1;32m--> 321\u001b[1;33m             \u001b[0mself\u001b[0m\u001b[1;33m.\u001b[0m\u001b[0merror_handler\u001b[0m\u001b[1;33m.\u001b[0m\u001b[0mcheck_response\u001b[0m\u001b[1;33m(\u001b[0m\u001b[0mresponse\u001b[0m\u001b[1;33m)\u001b[0m\u001b[1;33m\u001b[0m\u001b[1;33m\u001b[0m\u001b[0m\n\u001b[0m\u001b[0;32m    322\u001b[0m             response['value'] = self._unwrap_value(\n",
      "\u001b[1;32mc:\\users\\zachary wallace\\appdata\\local\\programs\\python\\python39\\lib\\site-packages\\selenium\\webdriver\\remote\\errorhandler.py\u001b[0m in \u001b[0;36mcheck_response\u001b[1;34m(self, response)\u001b[0m\n\u001b[0;32m    241\u001b[0m             \u001b[1;32mraise\u001b[0m \u001b[0mexception_class\u001b[0m\u001b[1;33m(\u001b[0m\u001b[0mmessage\u001b[0m\u001b[1;33m,\u001b[0m \u001b[0mscreen\u001b[0m\u001b[1;33m,\u001b[0m \u001b[0mstacktrace\u001b[0m\u001b[1;33m,\u001b[0m \u001b[0malert_text\u001b[0m\u001b[1;33m)\u001b[0m\u001b[1;33m\u001b[0m\u001b[1;33m\u001b[0m\u001b[0m\n\u001b[1;32m--> 242\u001b[1;33m         \u001b[1;32mraise\u001b[0m \u001b[0mexception_class\u001b[0m\u001b[1;33m(\u001b[0m\u001b[0mmessage\u001b[0m\u001b[1;33m,\u001b[0m \u001b[0mscreen\u001b[0m\u001b[1;33m,\u001b[0m \u001b[0mstacktrace\u001b[0m\u001b[1;33m)\u001b[0m\u001b[1;33m\u001b[0m\u001b[1;33m\u001b[0m\u001b[0m\n\u001b[0m\u001b[0;32m    243\u001b[0m \u001b[1;33m\u001b[0m\u001b[0m\n",
      "\u001b[1;31mNoSuchElementException\u001b[0m: Message: no such element: Unable to locate element: {\"method\":\"css selector\",\"selector\":\".content\"}\n  (Session info: chrome=91.0.4472.77)\n",
      "\nDuring handling of the above exception, another exception occurred:\n",
      "\u001b[1;31mNameError\u001b[0m                                 Traceback (most recent call last)",
      "\u001b[1;32m<ipython-input-54-91bf1597af90>\u001b[0m in \u001b[0;36m<module>\u001b[1;34m\u001b[0m\n\u001b[0;32m     41\u001b[0m                 \u001b[0mbeer_data\u001b[0m\u001b[1;33m.\u001b[0m\u001b[0mappend\u001b[0m\u001b[1;33m(\u001b[0m\u001b[0mdict_data\u001b[0m\u001b[1;33m)\u001b[0m\u001b[1;33m\u001b[0m\u001b[1;33m\u001b[0m\u001b[0m\n\u001b[0;32m     42\u001b[0m \u001b[1;33m\u001b[0m\u001b[0m\n\u001b[1;32m---> 43\u001b[1;33m             \u001b[1;32mexcept\u001b[0m \u001b[0mNoSuchElementException\u001b[0m \u001b[1;32mas\u001b[0m \u001b[0merror\u001b[0m\u001b[1;33m:\u001b[0m\u001b[1;33m\u001b[0m\u001b[1;33m\u001b[0m\u001b[0m\n\u001b[0m\u001b[0;32m     44\u001b[0m                 \u001b[0mprint\u001b[0m\u001b[1;33m(\u001b[0m\u001b[0merror\u001b[0m\u001b[1;33m)\u001b[0m\u001b[1;33m\u001b[0m\u001b[1;33m\u001b[0m\u001b[0m\n\u001b[0;32m     45\u001b[0m                 \u001b[1;32mcontinue\u001b[0m\u001b[1;33m\u001b[0m\u001b[1;33m\u001b[0m\u001b[0m\n",
      "\u001b[1;31mNameError\u001b[0m: name 'NoSuchElementException' is not defined"
     ]
    }
   ],
   "source": [
    "login = input('Have you logged in? [Y/N] ')\n",
    "\n",
    "# untappd_driver.get(untappd_url)\n",
    "\n",
    "if login == 'Y':\n",
    "\n",
    "    for style in style_families: #slice added for limiting results while testing\n",
    "        untappd_driver.find_element_by_id('search-term').clear()\n",
    "        untappd_driver.find_element_by_id('search-term').send_keys(style)\n",
    "        search = untappd_driver.find_element_by_xpath('//*[@id=\"slide\"]/div/div[1]/div/div/div[1]/form/span/input')\n",
    "        search.click()\n",
    "        untappd_main_window = untappd_driver.current_window_handle\n",
    "\n",
    "        # Click Show More beers 3 times; removed while testing\n",
    "        for i in range(3):\n",
    "            wait = WebDriverWait(untappd_driver,3)\n",
    "            more_beer_results = untappd_driver.find_element_by_xpath('//*[@id=\"slide\"]/div/div[1]/div/div/div[3]/a')\n",
    "            wait.until(EC.visibility_of(more_beer_results))\n",
    "            more_beer_results.click()\n",
    "\n",
    "        untappd_driver.switch_to.window(untappd_main_window)\n",
    "\n",
    "        beer_details = untappd_driver.find_elements_by_class_name('beer-details')\n",
    "        \n",
    "        for detail in beer_details:\n",
    "            \n",
    "            beer_page_link = detail.find_element_by_tag_name('a')\n",
    "            beer_page_link.send_keys(Keys.CONTROL + Keys.RETURN)\n",
    "\n",
    "            new_beer_tab = untappd_driver.window_handles[-1]\n",
    "            untappd_driver.switch_to.window(new_beer_tab)\n",
    "            \n",
    "            try:         \n",
    "                wait = WebDriverWait(untappd_driver,90)\n",
    "                wait.until(EC.visibility_of(untappd_driver.find_element_by_class_name('content')))\n",
    "                    #(By.CLASS_NAME,'content')))\n",
    "                    #untappd_driver.find_element_by_class_name('content'))\n",
    "    \n",
    "                dict_data = get_beer_data()\n",
    "                dict_data['style_search'] = style\n",
    "                beer_data.append(dict_data)\n",
    "                \n",
    "            except NoSuchElementException as error:\n",
    "                print(error)\n",
    "                continue\n",
    "\n",
    "            untappd_driver.close()\n",
    "\n",
    "            untappd_driver.switch_to.window(untappd_main_window)\n",
    "            \n",
    "            time.sleep(3)\n",
    "\n",
    "        print(f'Completed {style}.')\n",
    "\n",
    "    untappd_driver.quit()"
   ]
  },
  {
   "cell_type": "code",
   "execution_count": null,
   "metadata": {},
   "outputs": [],
   "source": [
    "# NoSuchElementException: Message: no such element: Unable to locate element: {\"method\":\"css selector\",\"selector\":\".content\"}\n",
    "#   (Session info: chrome=91.0.4472.77)\n",
    "\n",
    "# TimeoutException: Message: timeout: Timed out receiving message from renderer: 300.000\n",
    "#   (Session info: chrome=91.0.4472.77)"
   ]
  },
  {
   "cell_type": "code",
   "execution_count": 51,
   "metadata": {},
   "outputs": [
    {
     "data": {
      "text/plain": [
       "146"
      ]
     },
     "execution_count": 51,
     "metadata": {},
     "output_type": "execute_result"
    }
   ],
   "source": [
    "len(beer_data)"
   ]
  },
  {
   "cell_type": "code",
   "execution_count": null,
   "metadata": {},
   "outputs": [],
   "source": [
    "# untappd_driver.switch_to.window(untappd_main_window)\n",
    "# beer_details = untappd_driver.find_elements_by_class_name('beer-details')\n",
    "# beer_data = []\n",
    "# for detail in beer_details:\n",
    "#     beer_page_link = detail.find_element_by_tag_name('a')\n",
    "#     beer_page_link.send_keys(Keys.CONTROL + Keys.RETURN)\n",
    "    \n",
    "#     new_beer_tab = untappd_driver.window_handles[-1]\n",
    "#     untappd_driver.switch_to.window(new_beer_tab)\n",
    "    \n",
    "#     dict_data = get_beer_data()\n",
    "#     beer_data.append(dict_data)\n",
    "    \n",
    "#     untappd_driver.close()\n",
    "    \n",
    "#     untappd_driver.switch_to.window(untappd_main_window)\n",
    "\n",
    "# untappd_driver.quit()"
   ]
  },
  {
   "cell_type": "code",
   "execution_count": 49,
   "metadata": {},
   "outputs": [
    {
     "data": {
      "text/plain": [
       "65"
      ]
     },
     "execution_count": 49,
     "metadata": {},
     "output_type": "execute_result"
    }
   ],
   "source": [
    "len(beer_data)"
   ]
  },
  {
   "cell_type": "code",
   "execution_count": 23,
   "metadata": {
    "scrolled": true
   },
   "outputs": [
    {
     "name": "stdout",
     "output_type": "stream",
     "text": [
      "{'bid': '33040', 'beer': 'Delirium Red', 'score': '3.58', 'brewery': 'Delirium - Huyghe Brewery', 'style': 'Fruit Beer', 'abv': '8% ABV', 'ibu': '10 IBU', 'raters': '108,882 Ratings', 'description': 'Colour and sight: Deep dark red colour, with a light pink, compact and lacing head.\\nScent: Soft fruity aroma, with hints of almond and mildly sour cherries.\\nFlavour: Sweet and fruity, with a nice balance between sweet and sour. An excellent dessert beer. Show Less', 'style_search': 'Belgian Ale'}\n"
     ]
    }
   ],
   "source": [
    "for beer in beer_data:\n",
    "    if beer['beer'] == 'Delirium Red':\n",
    "        print(beer)"
   ]
  },
  {
   "cell_type": "code",
   "execution_count": null,
   "metadata": {
    "scrolled": true
   },
   "outputs": [],
   "source": [
    "today = datetime.datetime.today()\n",
    "now = str(today).replace(' ','_').replace(':','')\n",
    "\n",
    "# TODO: elegantly handle encoding\n",
    "keys = beer_data[10].keys()\n",
    "with open(f'untappd_beer_data_scrape_{now}.csv', 'w', newline='', encoding='UTF-8')  as output_file:\n",
    "    dict_writer = csv.DictWriter(output_file, keys)\n",
    "    dict_writer.writeheader()\n",
    "    dict_writer.writerows(beer_data)"
   ]
  },
  {
   "cell_type": "code",
   "execution_count": 41,
   "metadata": {},
   "outputs": [],
   "source": [
    "untappd_driver.quit()"
   ]
  }
 ],
 "metadata": {
  "kernelspec": {
   "display_name": "Python 3",
   "language": "python",
   "name": "python3"
  },
  "language_info": {
   "codemirror_mode": {
    "name": "ipython",
    "version": 3
   },
   "file_extension": ".py",
   "mimetype": "text/x-python",
   "name": "python",
   "nbconvert_exporter": "python",
   "pygments_lexer": "ipython3",
   "version": "3.9.5"
  }
 },
 "nbformat": 4,
 "nbformat_minor": 4
}
