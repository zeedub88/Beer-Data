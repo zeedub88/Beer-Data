{
 "cells": [
  {
   "cell_type": "code",
   "execution_count": 2,
   "metadata": {},
   "outputs": [],
   "source": [
    "from selenium import webdriver\n",
    "from selenium.webdriver.chrome.options import Options\n",
    "from selenium.webdriver.common.keys import Keys\n",
    "from selenium.webdriver.common.by import By\n",
    "from selenium.webdriver.support.ui import WebDriverWait\n",
    "from selenium.webdriver.support import expected_conditions as EC\n",
    "from selenium.common.exceptions import NoSuchElementException, TimeoutException, StaleElementReferenceException\n",
    "import time\n",
    "import csv\n",
    "import datetime"
   ]
  },
  {
   "cell_type": "code",
   "execution_count": null,
   "metadata": {},
   "outputs": [],
   "source": [
    "# To run Chrome in headless mode\n",
    "# options = Options()\n",
    "# options.headless = True\n",
    "# options.add_argument(\"--window-size-1920,1200\")"
   ]
  },
  {
   "cell_type": "code",
   "execution_count": 3,
   "metadata": {},
   "outputs": [],
   "source": [
    "DRIVER_PATH = 'chromedriver'"
   ]
  },
  {
   "cell_type": "code",
   "execution_count": null,
   "metadata": {},
   "outputs": [],
   "source": [
    "cbb_driver = webdriver.Chrome(executable_path=DRIVER_PATH)\n",
    "\n",
    "results = 1\n",
    "pages = 0\n",
    "cbb_driver.get(f'https://beerandbrewing.com/beer-reviews?q=&hPP={results}&idx=cbb_web_review_search&p={pages}')"
   ]
  },
  {
   "cell_type": "code",
   "execution_count": null,
   "metadata": {},
   "outputs": [],
   "source": [
    "cbb_main_reviews_window = cbb_driver.current_window_handle"
   ]
  },
  {
   "cell_type": "code",
   "execution_count": 4,
   "metadata": {},
   "outputs": [],
   "source": [
    "# Define style families for search and categorization\n",
    "style_families = ['Wheat', 'Sour', 'Belgian Ale', 'Pale Ale', 'English Bitter', 'Scottish Ale', 'Brown Ale', 'Porter', 'Stout', \\\n",
    "               'Pilsner', 'American Lager', 'European Lager', 'Bock', 'Alt', 'Barley Wine']"
   ]
  },
  {
   "cell_type": "markdown",
   "metadata": {},
   "source": [
    "### This section is for scraping Craft Beer & Brewing."
   ]
  },
  {
   "cell_type": "code",
   "execution_count": null,
   "metadata": {},
   "outputs": [],
   "source": [
    "# Functions to handle data processing for Craft Beer & Brewing\n",
    "\n",
    "def get_item_text(item):\n",
    "    return item.text or ''\n",
    "\n",
    "def parse_review_meta(review_meta):\n",
    "    meta_keys = ['Style', 'ABV', 'IBU']\n",
    "    meta_items = []\n",
    "    \n",
    "    for i in review_meta:\n",
    "        if get_item_text(i) is not None and get_item_text(i) != '':\n",
    "            if 'Style' in get_item_text(i):\n",
    "                item = get_item_text(i).split(': ')\n",
    "            else:\n",
    "                item = get_item_text(i).replace(':','').split()\n",
    "            meta_items.append(item)\n",
    "\n",
    "    for i in meta_items:\n",
    "        if 'Style' not in i:\n",
    "            first_pair = ' '.join(i[:2])\n",
    "            second_pair = ' '.join(i[-2:])\n",
    "        else:\n",
    "            first_pair = None\n",
    "            second_pair = None\n",
    "\n",
    "    transformed_meta_items = [i for i in meta_items if 'Style' in i]\n",
    "    if first_pair is not None:\n",
    "        transformed_meta_items.append(first_pair.split())\n",
    "    if second_pair is not None:\n",
    "        transformed_meta_items.append(second_pair.split())\n",
    "    \n",
    "    meta_items_dict = {x: y.strip() for x, y in transformed_meta_items}\n",
    "    return tuple([meta_items_dict.get(key, None) for key in meta_keys])\n",
    "    \n",
    "def parse_scores(scores):\n",
    "    split_scores = scores.split()\n",
    "    score = split_scores[0].split('/')[0]\n",
    "    aroma = split_scores[2]\n",
    "    appearance = split_scores[4]\n",
    "    flavor = split_scores[6]\n",
    "    mouthfeel = split_scores[8]\n",
    "    return score, aroma, appearance, flavor, mouthfeel\n",
    "\n",
    "def parse_reviews(reviews):\n",
    "#     brewers = reviews[2].text.strip('\\\"')\n",
    "#     panel = reviews[3].text.strip('\\\"')\n",
    "#     editors = reviews[4].text.strip('\\\"')\n",
    "#     total_review = brewers+' '+panel+' '+editors\n",
    "#     return brewers, panel, editors, total_review\n",
    "    total_review = []\n",
    "    for review in reviews:\n",
    "        review_text = get_item_text(review)\n",
    "        if 'Print Shelf Talker' not in review_text and 'How We Review' not in review_text:\n",
    "            total_review.append(review_text.strip('\\\"').strip('\\n'))\n",
    "    return ' '.join(total_review)"
   ]
  },
  {
   "cell_type": "code",
   "execution_count": null,
   "metadata": {},
   "outputs": [],
   "source": [
    "beer_styles = [get_item_text(i).split('\\n') for i in cbb_driver.find_elements_by_class_name('ais-refinement-list')][0]"
   ]
  },
  {
   "cell_type": "code",
   "execution_count": null,
   "metadata": {},
   "outputs": [],
   "source": [
    "beer_hits = cbb_driver.find_elements_by_class_name('hit-content')\n",
    "tabs = []\n",
    "beers = []\n",
    "\n",
    "for hits in beer_hits:\n",
    "    for beer in hits.find_elements_by_tag_name('a'):\n",
    "        beer.send_keys(Keys.CONTROL + Keys.RETURN)\n",
    "        tabs.append(cbb_driver.window_handles[-1])"
   ]
  },
  {
   "cell_type": "code",
   "execution_count": null,
   "metadata": {},
   "outputs": [],
   "source": [
    "for tab in tabs:\n",
    "    cbb_driver.switch_to.window(tab)\n",
    "\n",
    "    review_meta = cbb_driver.find_element_by_class_name('review-meta-holder').find_elements_by_tag_name('p')\n",
    "    style, abv, ibu = parse_review_meta(review_meta)\n",
    "    \n",
    "    scores = cbb_driver.find_element_by_class_name('main-score-overall-container').text\n",
    "    score, aroma, appearance, flavor, mouthfeel = parse_scores(scores)\n",
    "    \n",
    "    beer = cbb_driver.find_element_by_id('article-body').find_element_by_tag_name('h1').text\n",
    "    \n",
    "    reviews = cbb_driver.find_element_by_id('article-body').find_elements_by_tag_name('p')\n",
    "    total_review = parse_reviews(reviews)\n",
    "    \n",
    "    beer_data = {\n",
    "                'beer': beer,\n",
    "                'style': style,\n",
    "                'abv': abv,\n",
    "                'ibu': ibu,\n",
    "                'total_score': score,\n",
    "                 'aroma_score': aroma,\n",
    "                 'appearance_score': appearance,\n",
    "                 'flavor_score': flavor,\n",
    "                 'mouthfeel_score': mouthfeel,\n",
    "                'total_review': total_review\n",
    "                }\n",
    "    beers.append(beer_data)"
   ]
  },
  {
   "cell_type": "code",
   "execution_count": null,
   "metadata": {},
   "outputs": [],
   "source": [
    "## Write the CBB data to a CSV\n",
    "\n",
    "today = datetime.datetime.today()\n",
    "now = str(today).replace(' ','_').replace(':','')\n",
    "\n",
    "# TODO: elegantly handle encoding\n",
    "keys = beers[0].keys()\n",
    "with open(f'beer_data_scrape_{now}.csv', 'w', newline='',encoding='UTF-8')  as output_file:\n",
    "    dict_writer = csv.DictWriter(output_file, keys)\n",
    "    dict_writer.writeheader()\n",
    "    dict_writer.writerows(beers)"
   ]
  },
  {
   "cell_type": "code",
   "execution_count": null,
   "metadata": {},
   "outputs": [],
   "source": [
    "cbb_driver.quit()"
   ]
  },
  {
   "cell_type": "markdown",
   "metadata": {},
   "source": [
    "### This section is for scraping Untappd."
   ]
  },
  {
   "cell_type": "code",
   "execution_count": 5,
   "metadata": {},
   "outputs": [],
   "source": [
    "# Functions to handle data processing for UNTAPPD\n",
    "\n",
    "# def start_search(style):\n",
    "#     untappd_url = f'https://untappd.com/search?q={style}'\n",
    "#     return untappd_url\n",
    "\n",
    "def search_for_beers(style):\n",
    "    untappd_driver.find_element_by_id('search-term').clear()\n",
    "    untappd_driver.find_element_by_id('search-term').send_keys(style)\n",
    "    search = untappd_driver.find_element_by_xpath('//*[@id=\"slide\"]/div/div[1]/div/div/div[1]/form/span/input')\n",
    "    search.click()\n",
    "\n",
    "def get_beer_data():\n",
    "    beer_elements = untappd_driver.find_element_by_class_name('content')\n",
    "    beer = beer_elements.find_element_by_tag_name('h1').text\n",
    "    score = beer_elements.find_element_by_class_name('num').text.replace('(','').replace(')','')\n",
    "    bid = beer_elements.find_element_by_class_name('label').get_attribute('href').split('/')[-1]\n",
    "    \n",
    "    dict_data = {\n",
    "                'bid': bid,\n",
    "                'beer': beer,\n",
    "                'score': score\n",
    "                }\n",
    "    \n",
    "    p_tags = beer_elements.find_elements_by_tag_name('p')\n",
    "    p_tags_list = []\n",
    "    for tag in p_tags:\n",
    "        tag_value = tag.text \n",
    "        tag_attribute = tag.get_attribute('class')\n",
    "        p_tags_list.append({tag_attribute:tag_value})\n",
    "    \n",
    "    for dicts in p_tags_list:\n",
    "        for k,v in dicts.items():\n",
    "            if k:\n",
    "                dict_data[k] = v\n",
    "            \n",
    "    try:\n",
    "        untappd_driver.find_element_by_css_selector('div.beer-descrption-read-more').click()\n",
    "        description = untappd_driver.find_element_by_class_name('beer-descrption-read-less').text\n",
    "    except:\n",
    "        description = ''\n",
    "    \n",
    "    dict_data['description'] = description\n",
    "    \n",
    "    return dict_data"
   ]
  },
  {
   "cell_type": "code",
   "execution_count": 27,
   "metadata": {},
   "outputs": [],
   "source": [
    "# This lets me re-run the script after it blows up without having to quit the driver and re-login to Untappd.\n",
    "untappd_driver.switch_to.window(untappd_main_window)"
   ]
  },
  {
   "cell_type": "code",
   "execution_count": 6,
   "metadata": {},
   "outputs": [],
   "source": [
    "beer_data = []\n",
    "search_more_exceptions = []\n",
    "beer_page_link_errors = []\n",
    "beer_content_errors = []"
   ]
  },
  {
   "cell_type": "code",
   "execution_count": 7,
   "metadata": {},
   "outputs": [],
   "source": [
    "# Start driver\n",
    "untappd_driver = webdriver.Chrome(executable_path=DRIVER_PATH)\n",
    "# Start search\n",
    "untappd_url = f'https://untappd.com/search?q='\n",
    "untappd_driver.get(untappd_url)"
   ]
  },
  {
   "cell_type": "code",
   "execution_count": 8,
   "metadata": {
    "scrolled": true
   },
   "outputs": [
    {
     "name": "stdout",
     "output_type": "stream",
     "text": [
      "Have you logged in? [Y/N] Y\n",
      "Searching for Wheat.\n",
      "Completed Wheat.\n",
      "Searching for Sour.\n",
      "Completed Sour.\n",
      "Searching for Belgian Ale.\n",
      "Completed Belgian Ale.\n",
      "Searching for Pale Ale.\n",
      "Completed Pale Ale.\n",
      "Searching for English Bitter.\n"
     ]
    },
    {
     "ename": "NoSuchWindowException",
     "evalue": "Message: no such window: window was already closed\n  (Session info: chrome=91.0.4472.77)\n",
     "output_type": "error",
     "traceback": [
      "\u001b[1;31m---------------------------------------------------------------------------\u001b[0m",
      "\u001b[1;31mNoSuchWindowException\u001b[0m                     Traceback (most recent call last)",
      "\u001b[1;32m<ipython-input-8-a892427d45b6>\u001b[0m in \u001b[0;36m<module>\u001b[1;34m\u001b[0m\n\u001b[0;32m     69\u001b[0m \u001b[1;33m\u001b[0m\u001b[0m\n\u001b[0;32m     70\u001b[0m                     \u001b[0mwait\u001b[0m \u001b[1;33m=\u001b[0m \u001b[0mWebDriverWait\u001b[0m\u001b[1;33m(\u001b[0m\u001b[0muntappd_driver\u001b[0m\u001b[1;33m,\u001b[0m\u001b[1;36m90\u001b[0m\u001b[1;33m)\u001b[0m\u001b[1;33m\u001b[0m\u001b[1;33m\u001b[0m\u001b[0m\n\u001b[1;32m---> 71\u001b[1;33m                     \u001b[0mwait\u001b[0m\u001b[1;33m.\u001b[0m\u001b[0muntil\u001b[0m\u001b[1;33m(\u001b[0m\u001b[0mEC\u001b[0m\u001b[1;33m.\u001b[0m\u001b[0mvisibility_of\u001b[0m\u001b[1;33m(\u001b[0m\u001b[0muntappd_driver\u001b[0m\u001b[1;33m.\u001b[0m\u001b[0mfind_element_by_class_name\u001b[0m\u001b[1;33m(\u001b[0m\u001b[1;34m'content'\u001b[0m\u001b[1;33m)\u001b[0m\u001b[1;33m)\u001b[0m\u001b[1;33m)\u001b[0m\u001b[1;33m\u001b[0m\u001b[1;33m\u001b[0m\u001b[0m\n\u001b[0m\u001b[0;32m     72\u001b[0m                         \u001b[1;31m#(By.CLASS_NAME,'content')))\u001b[0m\u001b[1;33m\u001b[0m\u001b[1;33m\u001b[0m\u001b[1;33m\u001b[0m\u001b[0m\n\u001b[0;32m     73\u001b[0m                         \u001b[1;31m#untappd_driver.find_element_by_class_name('content'))\u001b[0m\u001b[1;33m\u001b[0m\u001b[1;33m\u001b[0m\u001b[1;33m\u001b[0m\u001b[0m\n",
      "\u001b[1;32mc:\\users\\zachary wallace\\appdata\\local\\programs\\python\\python39\\lib\\site-packages\\selenium\\webdriver\\remote\\webdriver.py\u001b[0m in \u001b[0;36mfind_element_by_class_name\u001b[1;34m(self, name)\u001b[0m\n\u001b[0;32m    562\u001b[0m             \u001b[0melement\u001b[0m \u001b[1;33m=\u001b[0m \u001b[0mdriver\u001b[0m\u001b[1;33m.\u001b[0m\u001b[0mfind_element_by_class_name\u001b[0m\u001b[1;33m(\u001b[0m\u001b[1;34m'foo'\u001b[0m\u001b[1;33m)\u001b[0m\u001b[1;33m\u001b[0m\u001b[1;33m\u001b[0m\u001b[0m\n\u001b[0;32m    563\u001b[0m         \"\"\"\n\u001b[1;32m--> 564\u001b[1;33m         \u001b[1;32mreturn\u001b[0m \u001b[0mself\u001b[0m\u001b[1;33m.\u001b[0m\u001b[0mfind_element\u001b[0m\u001b[1;33m(\u001b[0m\u001b[0mby\u001b[0m\u001b[1;33m=\u001b[0m\u001b[0mBy\u001b[0m\u001b[1;33m.\u001b[0m\u001b[0mCLASS_NAME\u001b[0m\u001b[1;33m,\u001b[0m \u001b[0mvalue\u001b[0m\u001b[1;33m=\u001b[0m\u001b[0mname\u001b[0m\u001b[1;33m)\u001b[0m\u001b[1;33m\u001b[0m\u001b[1;33m\u001b[0m\u001b[0m\n\u001b[0m\u001b[0;32m    565\u001b[0m \u001b[1;33m\u001b[0m\u001b[0m\n\u001b[0;32m    566\u001b[0m     \u001b[1;32mdef\u001b[0m \u001b[0mfind_elements_by_class_name\u001b[0m\u001b[1;33m(\u001b[0m\u001b[0mself\u001b[0m\u001b[1;33m,\u001b[0m \u001b[0mname\u001b[0m\u001b[1;33m)\u001b[0m\u001b[1;33m:\u001b[0m\u001b[1;33m\u001b[0m\u001b[1;33m\u001b[0m\u001b[0m\n",
      "\u001b[1;32mc:\\users\\zachary wallace\\appdata\\local\\programs\\python\\python39\\lib\\site-packages\\selenium\\webdriver\\remote\\webdriver.py\u001b[0m in \u001b[0;36mfind_element\u001b[1;34m(self, by, value)\u001b[0m\n\u001b[0;32m    974\u001b[0m                 \u001b[0mby\u001b[0m \u001b[1;33m=\u001b[0m \u001b[0mBy\u001b[0m\u001b[1;33m.\u001b[0m\u001b[0mCSS_SELECTOR\u001b[0m\u001b[1;33m\u001b[0m\u001b[1;33m\u001b[0m\u001b[0m\n\u001b[0;32m    975\u001b[0m                 \u001b[0mvalue\u001b[0m \u001b[1;33m=\u001b[0m \u001b[1;34m'[name=\"%s\"]'\u001b[0m \u001b[1;33m%\u001b[0m \u001b[0mvalue\u001b[0m\u001b[1;33m\u001b[0m\u001b[1;33m\u001b[0m\u001b[0m\n\u001b[1;32m--> 976\u001b[1;33m         return self.execute(Command.FIND_ELEMENT, {\n\u001b[0m\u001b[0;32m    977\u001b[0m             \u001b[1;34m'using'\u001b[0m\u001b[1;33m:\u001b[0m \u001b[0mby\u001b[0m\u001b[1;33m,\u001b[0m\u001b[1;33m\u001b[0m\u001b[1;33m\u001b[0m\u001b[0m\n\u001b[0;32m    978\u001b[0m             'value': value})['value']\n",
      "\u001b[1;32mc:\\users\\zachary wallace\\appdata\\local\\programs\\python\\python39\\lib\\site-packages\\selenium\\webdriver\\remote\\webdriver.py\u001b[0m in \u001b[0;36mexecute\u001b[1;34m(self, driver_command, params)\u001b[0m\n\u001b[0;32m    319\u001b[0m         \u001b[0mresponse\u001b[0m \u001b[1;33m=\u001b[0m \u001b[0mself\u001b[0m\u001b[1;33m.\u001b[0m\u001b[0mcommand_executor\u001b[0m\u001b[1;33m.\u001b[0m\u001b[0mexecute\u001b[0m\u001b[1;33m(\u001b[0m\u001b[0mdriver_command\u001b[0m\u001b[1;33m,\u001b[0m \u001b[0mparams\u001b[0m\u001b[1;33m)\u001b[0m\u001b[1;33m\u001b[0m\u001b[1;33m\u001b[0m\u001b[0m\n\u001b[0;32m    320\u001b[0m         \u001b[1;32mif\u001b[0m \u001b[0mresponse\u001b[0m\u001b[1;33m:\u001b[0m\u001b[1;33m\u001b[0m\u001b[1;33m\u001b[0m\u001b[0m\n\u001b[1;32m--> 321\u001b[1;33m             \u001b[0mself\u001b[0m\u001b[1;33m.\u001b[0m\u001b[0merror_handler\u001b[0m\u001b[1;33m.\u001b[0m\u001b[0mcheck_response\u001b[0m\u001b[1;33m(\u001b[0m\u001b[0mresponse\u001b[0m\u001b[1;33m)\u001b[0m\u001b[1;33m\u001b[0m\u001b[1;33m\u001b[0m\u001b[0m\n\u001b[0m\u001b[0;32m    322\u001b[0m             response['value'] = self._unwrap_value(\n\u001b[0;32m    323\u001b[0m                 response.get('value', None))\n",
      "\u001b[1;32mc:\\users\\zachary wallace\\appdata\\local\\programs\\python\\python39\\lib\\site-packages\\selenium\\webdriver\\remote\\errorhandler.py\u001b[0m in \u001b[0;36mcheck_response\u001b[1;34m(self, response)\u001b[0m\n\u001b[0;32m    240\u001b[0m                 \u001b[0malert_text\u001b[0m \u001b[1;33m=\u001b[0m \u001b[0mvalue\u001b[0m\u001b[1;33m[\u001b[0m\u001b[1;34m'alert'\u001b[0m\u001b[1;33m]\u001b[0m\u001b[1;33m.\u001b[0m\u001b[0mget\u001b[0m\u001b[1;33m(\u001b[0m\u001b[1;34m'text'\u001b[0m\u001b[1;33m)\u001b[0m\u001b[1;33m\u001b[0m\u001b[1;33m\u001b[0m\u001b[0m\n\u001b[0;32m    241\u001b[0m             \u001b[1;32mraise\u001b[0m \u001b[0mexception_class\u001b[0m\u001b[1;33m(\u001b[0m\u001b[0mmessage\u001b[0m\u001b[1;33m,\u001b[0m \u001b[0mscreen\u001b[0m\u001b[1;33m,\u001b[0m \u001b[0mstacktrace\u001b[0m\u001b[1;33m,\u001b[0m \u001b[0malert_text\u001b[0m\u001b[1;33m)\u001b[0m\u001b[1;33m\u001b[0m\u001b[1;33m\u001b[0m\u001b[0m\n\u001b[1;32m--> 242\u001b[1;33m         \u001b[1;32mraise\u001b[0m \u001b[0mexception_class\u001b[0m\u001b[1;33m(\u001b[0m\u001b[0mmessage\u001b[0m\u001b[1;33m,\u001b[0m \u001b[0mscreen\u001b[0m\u001b[1;33m,\u001b[0m \u001b[0mstacktrace\u001b[0m\u001b[1;33m)\u001b[0m\u001b[1;33m\u001b[0m\u001b[1;33m\u001b[0m\u001b[0m\n\u001b[0m\u001b[0;32m    243\u001b[0m \u001b[1;33m\u001b[0m\u001b[0m\n\u001b[0;32m    244\u001b[0m     \u001b[1;32mdef\u001b[0m \u001b[0m_value_or_default\u001b[0m\u001b[1;33m(\u001b[0m\u001b[0mself\u001b[0m\u001b[1;33m,\u001b[0m \u001b[0mobj\u001b[0m\u001b[1;33m,\u001b[0m \u001b[0mkey\u001b[0m\u001b[1;33m,\u001b[0m \u001b[0mdefault\u001b[0m\u001b[1;33m)\u001b[0m\u001b[1;33m:\u001b[0m\u001b[1;33m\u001b[0m\u001b[1;33m\u001b[0m\u001b[0m\n",
      "\u001b[1;31mNoSuchWindowException\u001b[0m: Message: no such window: window was already closed\n  (Session info: chrome=91.0.4472.77)\n"
     ]
    }
   ],
   "source": [
    "login = input('Have you logged in? [Y/N] ')\n",
    "\n",
    "# untappd_driver.get(untappd_url)\n",
    "\n",
    "if login == 'Y':\n",
    "\n",
    "    for style in style_families: # last 3 slice added to continue where left off\n",
    "        \n",
    "        time.sleep(5) # increased sleep to slow it down\n",
    "        \n",
    "        print(f'Searching for {style}.')\n",
    "        \n",
    "        untappd_driver.find_element_by_id('search-term').clear()\n",
    "        untappd_driver.find_element_by_id('search-term').send_keys(style)\n",
    "        search = untappd_driver.find_element_by_xpath('//*[@id=\"slide\"]/div/div[1]/div/div/div[1]/form/span/input')\n",
    "        search.click()\n",
    "        \n",
    "#         print('Clicked Search.')\n",
    "        \n",
    "        untappd_main_window = untappd_driver.current_window_handle\n",
    "\n",
    "        # Click Show More beers 3 times; removed while testing\n",
    "        for i in range(5): # increased click to get more beers\n",
    "            \n",
    "            time.sleep(5) # new sleep to slow it down\n",
    "            \n",
    "            try:\n",
    "#                 print('Waiting for Search More to appear.')\n",
    "\n",
    "                wait = WebDriverWait(untappd_driver,3)\n",
    "                more_beer_results = untappd_driver.find_element_by_xpath('//*[@id=\"slide\"]/div/div[1]/div/div/div[3]/a')\n",
    "                wait.until(EC.visibility_of(more_beer_results))\n",
    "                more_beer_results.click()\n",
    "\n",
    "#                 print('Clicked Search More.')\n",
    "            \n",
    "            except NoSuchElementException as error:\n",
    "#                 print('Could not find Search More.')\n",
    "#                 print(error)\n",
    "                search_more_exceptions.append(error)\n",
    "                continue\n",
    "\n",
    "        untappd_driver.switch_to.window(untappd_main_window)\n",
    "\n",
    "        beer_details = untappd_driver.find_elements_by_class_name('beer-details')\n",
    "        \n",
    "        for detail in beer_details:\n",
    "            \n",
    "            time.sleep(5) # new sleep to slow it down\n",
    "            \n",
    "            try:\n",
    "#                 print('Looking for beer page link.')\n",
    "                \n",
    "                wait = WebDriverWait(untappd_driver,90)\n",
    "                wait.until(EC.visibility_of(detail.find_element_by_tag_name('a')))\n",
    "\n",
    "                beer_page_link = detail.find_element_by_tag_name('a')\n",
    "                beer_page_link.send_keys(Keys.CONTROL + Keys.RETURN)\n",
    "                \n",
    "                time.sleep(5) # new sleep to slow it down\n",
    "\n",
    "                new_beer_tab = untappd_driver.window_handles[-1]\n",
    "                untappd_driver.switch_to.window(new_beer_tab)\n",
    "                \n",
    "                time.sleep(10) # new sleep to slow it down\n",
    "\n",
    "                try:\n",
    "#                     print('Looking for beer content on beer page.')\n",
    "                    \n",
    "                    wait = WebDriverWait(untappd_driver,90)\n",
    "                    wait.until(EC.visibility_of(untappd_driver.find_element_by_class_name('content')))\n",
    "                        #(By.CLASS_NAME,'content')))\n",
    "                        #untappd_driver.find_element_by_class_name('content'))\n",
    "\n",
    "                    dict_data = get_beer_data()\n",
    "                    dict_data['style_search'] = style\n",
    "                    beer_data.append(dict_data)\n",
    "                    \n",
    "#                     print('Beer content collected.')\n",
    "\n",
    "                except (NoSuchElementException, TimeoutException) as error:\n",
    "#                     print('Could not find beer content on beer page.')\n",
    "#                     print(error)\n",
    "                    beer_content_errors.append(error)\n",
    "                    untappd_driver.close()\n",
    "                    \n",
    "#                     print('Closed tab.')\n",
    "                    \n",
    "                    untappd_driver.switch_to.window(untappd_main_window)\n",
    "                    \n",
    "#                     print('Switched back to main window.')\n",
    "                    continue\n",
    "            \n",
    "            except StaleElementReferenceException as error:\n",
    "#                 print('Could not find beer page link.')\n",
    "#                 print(error)\n",
    "                beer_page_link_errors.append(error)\n",
    "                continue\n",
    "\n",
    "            untappd_driver.close()\n",
    "#             print('Closed tab.')\n",
    "\n",
    "            untappd_driver.switch_to.window(untappd_main_window)\n",
    "#             print('Switched back to main window.')\n",
    "            #time.sleep(3)\n",
    "\n",
    "        print(f'Completed {style}.')\n",
    "\n",
    "beer_fields = ['bid', 'beer', 'score', 'subsidiary', 'brewery', 'style', 'abv', 'ibu', 'raters', 'description', 'style_search']\n",
    "\n",
    "## Write the Untappd data to a csv.\n",
    "\n",
    "today = datetime.datetime.today()\n",
    "now = str(today).replace(' ','_').replace(':','')\n",
    "\n",
    "# TODO: elegantly handle encoding\n",
    "keys = beer_fields\n",
    "with open(f'untappd_beer_data_scrape_{now}.csv', 'w', newline='', encoding='UTF-8')  as output_file:\n",
    "    dict_writer = csv.DictWriter(output_file, keys)\n",
    "    dict_writer.writeheader()\n",
    "    dict_writer.writerows(beer_data)\n",
    "        \n",
    "untappd_driver.quit()"
   ]
  },
  {
   "cell_type": "markdown",
   "metadata": {},
   "source": [
    "##### Troubleshooting playground"
   ]
  },
  {
   "cell_type": "code",
   "execution_count": null,
   "metadata": {},
   "outputs": [],
   "source": [
    "# NoSuchElementException: Message: no such element: Unable to locate element: {\"method\":\"css selector\",\"selector\":\".content\"}\n",
    "#   (Session info: chrome=91.0.4472.77)\n",
    "\n",
    "# TimeoutException: Message: timeout: Timed out receiving message from renderer: 300.000\n",
    "#   (Session info: chrome=91.0.4472.77)\n",
    "\n"
   ]
  },
  {
   "cell_type": "code",
   "execution_count": 9,
   "metadata": {},
   "outputs": [
    {
     "name": "stdout",
     "output_type": "stream",
     "text": [
      "553\n"
     ]
    }
   ],
   "source": [
    "print(len(beer_data))\n",
    "# beer_data[-1]\n",
    "# print(beer_page_link.text)"
   ]
  },
  {
   "cell_type": "code",
   "execution_count": 10,
   "metadata": {},
   "outputs": [
    {
     "data": {
      "text/plain": [
       "[dict_keys(['bid', 'beer', 'score', 'brewery', 'style', 'abv', 'ibu', 'raters', 'description', 'style_search'])]"
      ]
     },
     "execution_count": 10,
     "metadata": {},
     "output_type": "execute_result"
    }
   ],
   "source": [
    "beer_fields = []\n",
    "for i in beer_data:\n",
    "    if i.keys() not in beer_fields:\n",
    "        beer_fields.append(i.keys())\n",
    "\n",
    "beer_fields"
   ]
  },
  {
   "cell_type": "code",
   "execution_count": 11,
   "metadata": {},
   "outputs": [],
   "source": [
    "beer_fields = ['bid', 'beer', 'score', 'brewery', 'style', 'abv', 'ibu', 'raters', 'description', 'style_search']"
   ]
  },
  {
   "cell_type": "code",
   "execution_count": 12,
   "metadata": {
    "scrolled": true
   },
   "outputs": [],
   "source": [
    "## Write the Untappd data to a csv.\n",
    "\n",
    "today = datetime.datetime.today()\n",
    "now = str(today).replace(' ','_').replace(':','')\n",
    "\n",
    "# TODO: elegantly handle encoding\n",
    "keys = beer_fields\n",
    "with open(f'untappd_beer_data_scrape_{now}.csv', 'w', newline='', encoding='UTF-8')  as output_file:\n",
    "    dict_writer = csv.DictWriter(output_file, keys)\n",
    "    dict_writer.writeheader()\n",
    "    dict_writer.writerows(beer_data)"
   ]
  },
  {
   "cell_type": "code",
   "execution_count": 13,
   "metadata": {},
   "outputs": [],
   "source": [
    "untappd_driver.quit()"
   ]
  }
 ],
 "metadata": {
  "kernelspec": {
   "display_name": "Python 3",
   "language": "python",
   "name": "python3"
  },
  "language_info": {
   "codemirror_mode": {
    "name": "ipython",
    "version": 3
   },
   "file_extension": ".py",
   "mimetype": "text/x-python",
   "name": "python",
   "nbconvert_exporter": "python",
   "pygments_lexer": "ipython3",
   "version": "3.9.5"
  }
 },
 "nbformat": 4,
 "nbformat_minor": 4
}
