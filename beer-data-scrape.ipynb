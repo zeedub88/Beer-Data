{
 "cells": [
  {
   "cell_type": "code",
   "execution_count": 1,
   "metadata": {},
   "outputs": [],
   "source": [
    "from selenium import webdriver\n",
    "from selenium.webdriver.chrome.options import Options\n",
    "from selenium.webdriver.common.keys import Keys\n",
    "import csv\n",
    "import datetime"
   ]
  },
  {
   "cell_type": "code",
   "execution_count": null,
   "metadata": {},
   "outputs": [],
   "source": [
    "# To run Chrome in headless mode\n",
    "# options = Options()\n",
    "# options.headless = True\n",
    "# options.add_argument(\"--window-size-1920,1200\")"
   ]
  },
  {
   "cell_type": "code",
   "execution_count": 2,
   "metadata": {},
   "outputs": [],
   "source": [
    "DRIVER_PATH = 'chromedriver'"
   ]
  },
  {
   "cell_type": "code",
   "execution_count": null,
   "metadata": {},
   "outputs": [],
   "source": [
    "cbb_driver = webdriver.Chrome(executable_path=DRIVER_PATH)\n",
    "\n",
    "results = 1\n",
    "pages = 0\n",
    "cbb_driver.get(f'https://beerandbrewing.com/beer-reviews?q=&hPP={results}&idx=cbb_web_review_search&p={pages}')"
   ]
  },
  {
   "cell_type": "code",
   "execution_count": null,
   "metadata": {},
   "outputs": [],
   "source": [
    "cbb_main_reviews_window = cbb_driver.current_window_handle"
   ]
  },
  {
   "cell_type": "code",
   "execution_count": 3,
   "metadata": {},
   "outputs": [],
   "source": [
    "# Define style families for search and categorization\n",
    "style_families = ['Wheat', 'Sour', 'Belgian Ale', 'Pale Ale', 'English Bitter', 'Scottish Ale', 'Brown Ale', 'Porter', 'Stout', \\\n",
    "               'Pilsner', 'American Lager', 'European Lager', 'Bock', 'Alt', 'Barley Wine']"
   ]
  },
  {
   "cell_type": "code",
   "execution_count": null,
   "metadata": {},
   "outputs": [],
   "source": [
    "# Functions to handle data processing for Craft Beer & Brewing\n",
    "\n",
    "def get_item_text(item):\n",
    "    return item.text or ''\n",
    "\n",
    "def parse_review_meta(review_meta):\n",
    "    meta_keys = ['Style', 'ABV', 'IBU']\n",
    "    meta_items = []\n",
    "    \n",
    "    for i in review_meta:\n",
    "        if get_item_text(i) is not None and get_item_text(i) != '':\n",
    "            if 'Style' in get_item_text(i):\n",
    "                item = get_item_text(i).split(': ')\n",
    "            else:\n",
    "                item = get_item_text(i).replace(':','').split()\n",
    "            meta_items.append(item)\n",
    "\n",
    "    for i in meta_items:\n",
    "        if 'Style' not in i:\n",
    "            first_pair = ' '.join(i[:2])\n",
    "            second_pair = ' '.join(i[-2:])\n",
    "        else:\n",
    "            first_pair = None\n",
    "            second_pair = None\n",
    "\n",
    "    transformed_meta_items = [i for i in meta_items if 'Style' in i]\n",
    "    if first_pair is not None:\n",
    "        transformed_meta_items.append(first_pair.split())\n",
    "    if second_pair is not None:\n",
    "        transformed_meta_items.append(second_pair.split())\n",
    "    \n",
    "    meta_items_dict = {x: y.strip() for x, y in transformed_meta_items}\n",
    "    return tuple([meta_items_dict.get(key, None) for key in meta_keys])\n",
    "    \n",
    "def parse_scores(scores):\n",
    "    split_scores = scores.split()\n",
    "    score = split_scores[0].split('/')[0]\n",
    "    aroma = split_scores[2]\n",
    "    appearance = split_scores[4]\n",
    "    flavor = split_scores[6]\n",
    "    mouthfeel = split_scores[8]\n",
    "    return score, aroma, appearance, flavor, mouthfeel\n",
    "\n",
    "def parse_reviews(reviews):\n",
    "#     brewers = reviews[2].text.strip('\\\"')\n",
    "#     panel = reviews[3].text.strip('\\\"')\n",
    "#     editors = reviews[4].text.strip('\\\"')\n",
    "#     total_review = brewers+' '+panel+' '+editors\n",
    "#     return brewers, panel, editors, total_review\n",
    "    total_review = []\n",
    "    for review in reviews:\n",
    "        review_text = get_item_text(review)\n",
    "        if 'Print Shelf Talker' not in review_text and 'How We Review' not in review_text:\n",
    "            total_review.append(review_text.strip('\\\"').strip('\\n'))\n",
    "    return ' '.join(total_review)"
   ]
  },
  {
   "cell_type": "code",
   "execution_count": 29,
   "metadata": {},
   "outputs": [],
   "source": [
    "# Functions to handle data processing for UNTAPPD\n",
    "\n",
    "# def start_search(style):\n",
    "#     untappd_url = f'https://untappd.com/search?q={style}'\n",
    "#     return untappd_url\n",
    "\n",
    "def search_for_beers(style):\n",
    "    untappd_driver.find_element_by_id('search-term').clear()\n",
    "    untappd_driver.find_element_by_id('search-term').send_keys(style)\n",
    "    search = untappd_driver.find_element_by_xpath('//*[@id=\"slide\"]/div/div[1]/div/div/div[1]/form/span/input')\n",
    "    search.click()\n",
    "\n",
    "def get_beer_data():\n",
    "    beer_elements = untappd_driver.find_element_by_class_name('content')\n",
    "    beer = beer_elements.find_element_by_tag_name('h1').text\n",
    "    score = beer_elements.find_element_by_class_name('num').text.replace('(','').replace(')','')\n",
    "    bid = beer_elements.find_element_by_class_name('label').get_attribute('href').split('/')[-1]\n",
    "    \n",
    "    dict_data = {\n",
    "                'bid': bid,\n",
    "                'beer': beer,\n",
    "                'score': score\n",
    "                }\n",
    "    \n",
    "    p_tags = beer_elements.find_elements_by_tag_name('p')\n",
    "    p_tags_list = []\n",
    "    for tag in p_tags:\n",
    "        tag_value = tag.text \n",
    "        tag_attribute = tag.get_attribute('class')\n",
    "        p_tags_list.append({tag_attribute:tag_value})\n",
    "    \n",
    "    for dicts in p_tags_list:\n",
    "        for k,v in dicts.items():\n",
    "            if k:\n",
    "                dict_data[k] = v\n",
    "            \n",
    "    try:\n",
    "        untappd_driver.find_element_by_css_selector('div.beer-descrption-read-more').click()\n",
    "        description = untappd_driver.find_element_by_class_name('beer-descrption-read-less').text\n",
    "    except:\n",
    "        description = ''\n",
    "    \n",
    "    dict_data['description'] = description\n",
    "    \n",
    "    return dict_data"
   ]
  },
  {
   "cell_type": "code",
   "execution_count": null,
   "metadata": {},
   "outputs": [],
   "source": [
    "beer_styles = [get_item_text(i).split('\\n') for i in cbb_driver.find_elements_by_class_name('ais-refinement-list')][0]"
   ]
  },
  {
   "cell_type": "code",
   "execution_count": null,
   "metadata": {},
   "outputs": [],
   "source": [
    "beer_hits = cbb_driver.find_elements_by_class_name('hit-content')\n",
    "tabs = []\n",
    "beers = []\n",
    "\n",
    "for hits in beer_hits:\n",
    "    for beer in hits.find_elements_by_tag_name('a'):\n",
    "        beer.send_keys(Keys.CONTROL + Keys.RETURN)\n",
    "        tabs.append(cbb_driver.window_handles[-1])"
   ]
  },
  {
   "cell_type": "code",
   "execution_count": null,
   "metadata": {},
   "outputs": [],
   "source": [
    "for tab in tabs:\n",
    "    cbb_driver.switch_to.window(tab)\n",
    "\n",
    "    review_meta = cbb_driver.find_element_by_class_name('review-meta-holder').find_elements_by_tag_name('p')\n",
    "    style, abv, ibu = parse_review_meta(review_meta)\n",
    "    \n",
    "    scores = cbb_driver.find_element_by_class_name('main-score-overall-container').text\n",
    "    score, aroma, appearance, flavor, mouthfeel = parse_scores(scores)\n",
    "    \n",
    "    beer = cbb_driver.find_element_by_id('article-body').find_element_by_tag_name('h1').text\n",
    "    \n",
    "    reviews = cbb_driver.find_element_by_id('article-body').find_elements_by_tag_name('p')\n",
    "#     brewers, panel, editors, \n",
    "    total_review = parse_reviews(reviews)\n",
    "    \n",
    "    beer_data = {\n",
    "                'beer': beer,\n",
    "                'style': style,\n",
    "                'abv': abv,\n",
    "                'ibu': ibu,\n",
    "                'total_score': score,\n",
    "                 'aroma_score': aroma,\n",
    "                 'appearance_score': appearance,\n",
    "                 'flavor_score': flavor,\n",
    "                 'mouthfeel_score': mouthfeel,\n",
    "#                  'brewers': brewers,\n",
    "#                  'panel': panel,\n",
    "#                  'editors': editors,\n",
    "                'total_review': total_review\n",
    "                }\n",
    "    beers.append(beer_data)"
   ]
  },
  {
   "cell_type": "code",
   "execution_count": null,
   "metadata": {},
   "outputs": [],
   "source": [
    "# for style in beer_styles:\n",
    "#     for beer in beers:\n",
    "#         if style in beer['style']:\n",
    "#             beer['style_category'] = style\n",
    "# beers"
   ]
  },
  {
   "cell_type": "code",
   "execution_count": null,
   "metadata": {},
   "outputs": [],
   "source": [
    "# styles = [beer['style_category'] for beer in beers]\n",
    "# print(list(set(styles)))"
   ]
  },
  {
   "cell_type": "code",
   "execution_count": null,
   "metadata": {},
   "outputs": [],
   "source": [
    "today = datetime.datetime.today()\n",
    "now = str(today).replace(' ','_').replace(':','')\n",
    "\n",
    "# TODO: elegantly handle encoding\n",
    "keys = beers[0].keys()\n",
    "with open(f'beer_data_scrape_{now}.csv', 'w', newline='',encoding='UTF-8')  as output_file:\n",
    "    dict_writer = csv.DictWriter(output_file, keys)\n",
    "    dict_writer.writeheader()\n",
    "    dict_writer.writerows(beers)"
   ]
  },
  {
   "cell_type": "code",
   "execution_count": null,
   "metadata": {},
   "outputs": [],
   "source": [
    "cbb_driver.quit()"
   ]
  },
  {
   "cell_type": "code",
   "execution_count": 24,
   "metadata": {},
   "outputs": [],
   "source": [
    "untappd_driver = webdriver.Chrome(executable_path=DRIVER_PATH)\n",
    "# all_beers ='https://untappd.com/beer/top_rated?country=united-states'\n",
    "# search_ipa = 'https://untappd.com/search?q=ipa'\n",
    "# untappd_driver.get(search_ipa)\n",
    "# untappd_main_window = untappd_driver.current_window_handle"
   ]
  },
  {
   "cell_type": "code",
   "execution_count": 28,
   "metadata": {},
   "outputs": [],
   "source": [
    "untappd_driver.find_element_by_id('search-term').clear() # clear current search value\n",
    "untappd_driver.find_element_by_id('search-term').send_keys('lager') # input new search value\n",
    "search = untappd_driver.find_element_by_xpath('//*[@id=\"slide\"]/div/div[1]/div/div/div[1]/form/span/input') # find the search button\n",
    "search.click()"
   ]
  },
  {
   "cell_type": "code",
   "execution_count": null,
   "metadata": {},
   "outputs": [],
   "source": [
    "def search_for_styles(style):\n",
    "    untappd_url = f'https://untappd.com/search?q={style}'\n",
    "    return untappd_url"
   ]
  },
  {
   "cell_type": "code",
   "execution_count": 10,
   "metadata": {},
   "outputs": [],
   "source": [
    "untappd_driver.switch_to.window(untappd_main_window)"
   ]
  },
  {
   "cell_type": "code",
   "execution_count": null,
   "metadata": {},
   "outputs": [],
   "source": [
    "beer_data = []\n",
    "\n",
    "# Start driver\n",
    "untappd_driver = webdriver.Chrome(executable_path=DRIVER_PATH)\n",
    "# Start search\n",
    "untappd_url = f'https://untappd.com/search?q='\n",
    "untappd_driver.get(untappd_url)\n",
    "untappd_driver.implicitly_wait(15)\n",
    "\n",
    "for style in style_families[2:5]: #slice added for limiting results while testing\n",
    "    # function not working, returning search as a string that cannot be clicked\n",
    "    # moving search.click() within the function did not work either, moved code within loop\n",
    "#     search_for_styles(style) \n",
    "    untappd_driver.find_element_by_id('search-term').clear()\n",
    "    untappd_driver.find_element_by_id('search-term').send_keys(style)\n",
    "    search = untappd_driver.find_element_by_xpath('//*[@id=\"slide\"]/div/div[1]/div/div/div[1]/form/span/input')\n",
    "    search.click()\n",
    "    untappd_main_window = untappd_driver.current_window_handle\n",
    "    \n",
    "    # Click Show More beers 3 times; removed while testing\n",
    "#     for i in range(3):\n",
    "#         more_beer_results = untappd_driver.find_element_by_xpath('//*[@id=\"slide\"]/div/div[1]/div/div/div[3]/a')\n",
    "#         more_beer_results.click()\n",
    "        \n",
    "#     untappd_driver.switch_to.window(untappd_main_window)\n",
    "\n",
    "    beer_details = untappd_driver.find_elements_by_class_name('beer-details')\n",
    "    for detail in beer_details:\n",
    "        beer_page_link = detail.find_element_by_tag_name('a')\n",
    "        beer_page_link.send_keys(Keys.CONTROL + Keys.RETURN)\n",
    "\n",
    "        new_beer_tab = untappd_driver.window_handles[-1]\n",
    "        untappd_driver.switch_to.window(new_beer_tab)\n",
    "        \n",
    "        untappd_driver.implicitly_wait(15)\n",
    "\n",
    "        dict_data = get_beer_data()\n",
    "        beer_data.append(dict_data)\n",
    "\n",
    "        untappd_driver.close()\n",
    "\n",
    "        untappd_driver.switch_to.window(untappd_main_window)\n",
    "    \n",
    "    print(f'Completed {style}. Collected {len(beer_data)} beers.')\n",
    "\n",
    "untappd_driver.quit()"
   ]
  },
  {
   "cell_type": "code",
   "execution_count": 21,
   "metadata": {},
   "outputs": [],
   "source": [
    "# untappd_driver.switch_to.window(untappd_main_window)\n",
    "# beer_details = untappd_driver.find_elements_by_class_name('beer-details')\n",
    "# beer_data = []\n",
    "# for detail in beer_details:\n",
    "#     beer_page_link = detail.find_element_by_tag_name('a')\n",
    "#     beer_page_link.send_keys(Keys.CONTROL + Keys.RETURN)\n",
    "    \n",
    "#     new_beer_tab = untappd_driver.window_handles[-1]\n",
    "#     untappd_driver.switch_to.window(new_beer_tab)\n",
    "    \n",
    "#     dict_data = get_beer_data()\n",
    "#     beer_data.append(dict_data)\n",
    "    \n",
    "#     untappd_driver.close()\n",
    "    \n",
    "#     untappd_driver.switch_to.window(untappd_main_window)\n",
    "\n",
    "# untappd_driver.quit()"
   ]
  },
  {
   "cell_type": "code",
   "execution_count": 34,
   "metadata": {
    "scrolled": false
   },
   "outputs": [
    {
     "data": {
      "text/plain": [
       "[{'bid': '3839',\n",
       "  'beer': 'Belgian White',\n",
       "  'score': '3.5',\n",
       "  'brewery': 'Blue Moon Brewing Company',\n",
       "  'style': 'Wheat Beer - Witbier',\n",
       "  'abv': '5.4% ABV',\n",
       "  'ibu': '9 IBU',\n",
       "  'raters': '503,089 Ratings',\n",
       "  'description': 'Blue Moon Belgian White, Belgian-style wheat ale, is a refreshing, medium-bodied, unfiltered Belgian-style wheat ale spiced with fresh coriander and orange peel for a uniquely complex taste and an uncommonly smooth finish. Show Less'},\n",
       " {'bid': '3916',\n",
       "  'beer': 'Samuel Adams Summer Ale',\n",
       "  'score': '3.4',\n",
       "  'brewery': 'Boston Beer Company',\n",
       "  'style': 'Wheat Beer - American Pale Wheat',\n",
       "  'abv': '5.3% ABV',\n",
       "  'ibu': '7 IBU',\n",
       "  'raters': '310,701 Ratings',\n",
       "  'description': 'Samuel Adams® Summer Ale is an American wheat ale. This hazy golden unfiltered brew combines crisp wheat with the bright citrus of lemon peel and the subtle spice of Grains of Paradise. This rare African pepper, closely related to cardamom, was first used as a brewing spice in the 13th Century and adds just the right peppery kick. All of these flavors come together to create a thirst quenching and utterly refreshing brew perfect for those warm summer days. Show Less'},\n",
       " {'bid': '16581',\n",
       "  'beer': 'Oberon Ale',\n",
       "  'score': '3.75',\n",
       "  'brewery': \"Bell's Brewery\",\n",
       "  'style': 'Wheat Beer - American Pale Wheat',\n",
       "  'abv': '5.8% ABV',\n",
       "  'ibu': '10 IBU',\n",
       "  'raters': '302,791 Ratings',\n",
       "  'description': \"Bell's Oberon is a wheat ale fermented with Bell's signature house ale yeast, mixing a spicy hop character with mildly fruity aromas. The addition of wheat malt lends a smooth mouthfeel, making it a classic summer beer.\\nShow Less\"},\n",
       " {'bid': '25796',\n",
       "  'beer': \"A Little Sumpin' Sumpin' Ale\",\n",
       "  'score': '3.79',\n",
       "  'brewery': 'Lagunitas Brewing Company',\n",
       "  'style': 'Wheat Beer - American Pale Wheat',\n",
       "  'abv': '7.5% ABV',\n",
       "  'ibu': '64 IBU',\n",
       "  'raters': '377,403 Ratings',\n",
       "  'description': 'Way smooth and silky with a nice wheatly-esque-ish-ness. A truly unique style featuring a strong hop finish on a silky body. A hoppy pale wheat ale that is great for IPA fans but so smooth that the hefeweizen fans dig it too. Show Less'},\n",
       " {'bid': '6422',\n",
       "  'beer': 'Hoegaarden Wit / Blanche',\n",
       "  'score': '3.56',\n",
       "  'brewery': 'Brouwerij Hoegaarden',\n",
       "  'style': 'Wheat Beer - Witbier',\n",
       "  'abv': '4.9% ABV',\n",
       "  'ibu': '15 IBU',\n",
       "  'raters': '378,297 Ratings',\n",
       "  'description': '500 years of hard work went into making this beer that features the aroma of orange peel, coriander and herbs that the merry monks imported from sunny Curacao. Speaking of which: pouring Hoegaarden is just like letting the sun fall into your glass: light yellow and naturally murky. And the soft foam adds a cloudy finish. And then there’s the soft taste, light and slightly sweet and sour and with subtle citrus notes… ah, just go ahead and taste it instead of reading about it! Show Less'},\n",
       " {'bid': '1452078',\n",
       "  'beer': 'SeaQuench Ale',\n",
       "  'score': '3.71',\n",
       "  'brewery': 'Dogfish Head Craft Brewery',\n",
       "  'style': 'Sour - Fruited Gose',\n",
       "  'abv': '4.9% ABV',\n",
       "  'ibu': '10 IBU',\n",
       "  'raters': '195,010 Ratings',\n",
       "  'description': 'SeaQuench Ale is a session sour mash-up of a crisp Kolsch, a salty Gose, and a tart Berliner Weiss brewed in sequence with black limes, sour lime juice and sea salt to make this the most thirst-quenching beer Dogfish Head has ever brewed. Show Less'},\n",
       " {'bid': '8021',\n",
       "  'beer': 'Rodenbach Grand Cru',\n",
       "  'score': '3.69',\n",
       "  'brewery': 'Brouwerij Rodenbach',\n",
       "  'style': 'Sour - Flanders Red Ale',\n",
       "  'abv': '6% ABV',\n",
       "  'ibu': '35 IBU',\n",
       "  'raters': '166,792 Ratings',\n",
       "  'description': ''},\n",
       " {'bid': '6807',\n",
       "  'beer': 'Sofie',\n",
       "  'score': '3.76',\n",
       "  'brewery': 'Goose Island Beer Co.',\n",
       "  'style': 'Farmhouse Ale - Saison',\n",
       "  'abv': '6.5% ABV',\n",
       "  'ibu': '20 IBU',\n",
       "  'raters': '146,629 Ratings',\n",
       "  'description': 'Our sparkling Belgian Style Farmhouse Ale is wine barrel-aged with an abundance of hand-zested orange peel. Spicy white pepper notes contrast the citrus tartness. The light, refreshing, creamy vanilla finish will excite those fond of Champagne.\\n\\nOriginally brewed by Belgian farmers to attract the best farm hands, we were inspired to brew an exceptional ale as inviting as the original Belgian Farmhouse ales. Light and effervescent, we named it for our founder’s granddaughter Sofie. Show Less'},\n",
       " {'bid': '1046722',\n",
       "  'beer': 'Sour Monkey',\n",
       "  'score': '3.82',\n",
       "  'brewery': 'Victory Brewing Company',\n",
       "  'style': 'Sour - Other',\n",
       "  'abv': '9.5% ABV',\n",
       "  'ibu': '10 IBU',\n",
       "  'raters': '141,194 Ratings',\n",
       "  'description': 'Fruity notes from imported Belgian yeast swirl through a precise souring. Pucker up to a bite of citrus laden tang ending with a delectable experience. Show Less'},\n",
       " {'bid': '3963',\n",
       "  'beer': 'Festina Pêche',\n",
       "  'score': '3.53',\n",
       "  'brewery': 'Dogfish Head Craft Brewery',\n",
       "  'style': 'Sour - Fruited Berliner Weisse',\n",
       "  'abv': '4.5% ABV',\n",
       "  'ibu': '8 IBU',\n",
       "  'raters': '100,706 Ratings',\n",
       "  'description': 'A refreshing neo-Berliner Weisse, Festina Pêche is available during the sweaty months.\\n\\nSadly, there are only a few breweries left in Berlin still brewing the Berliner Weisse style, which is characterized by its intense tartness (some say sour). There were once over 70 breweries in Berlin alone making this beer!\\n\\nIn addition to fermentation with an ale yeast, Berliner Weisse is traditionally fermented with lactic cultures to produce its acidic (or green apple-like) character. Served as an apertif or summertime quencher, Festina is delicately hopped and has a pale straw color. To soften the intense sourness, Berliner Weisse is traditionally served with a dash of essence of woodruff or raspberry syrup.\\n\\nIn Festina Pêche, since the natural peach sugars are eaten by the yeast, the fruit complexity is woven into both the aroma and the taste of the beer so there is no need to doctor it with woodruff or raspberry syrup. Just open and enjoy! Show Less'}]"
      ]
     },
     "execution_count": 34,
     "metadata": {},
     "output_type": "execute_result"
    }
   ],
   "source": [
    "beer_data"
   ]
  },
  {
   "cell_type": "code",
   "execution_count": 205,
   "metadata": {
    "scrolled": true
   },
   "outputs": [],
   "source": [
    "today = datetime.datetime.today()\n",
    "now = str(today).replace(' ','_').replace(':','')\n",
    "\n",
    "# TODO: elegantly handle encoding\n",
    "keys = beer_data[10].keys()\n",
    "with open(f'untappd_beer_data_scrape_{now}.csv', 'w', newline='', encoding='UTF-8')  as output_file:\n",
    "    dict_writer = csv.DictWriter(output_file, keys)\n",
    "    dict_writer.writeheader()\n",
    "    dict_writer.writerows(beer_data)"
   ]
  },
  {
   "cell_type": "code",
   "execution_count": 38,
   "metadata": {},
   "outputs": [],
   "source": [
    "untappd_driver.quit()"
   ]
  }
 ],
 "metadata": {
  "kernelspec": {
   "display_name": "Python 3",
   "language": "python",
   "name": "python3"
  },
  "language_info": {
   "codemirror_mode": {
    "name": "ipython",
    "version": 3
   },
   "file_extension": ".py",
   "mimetype": "text/x-python",
   "name": "python",
   "nbconvert_exporter": "python",
   "pygments_lexer": "ipython3",
   "version": "3.8.1"
  }
 },
 "nbformat": 4,
 "nbformat_minor": 4
}
